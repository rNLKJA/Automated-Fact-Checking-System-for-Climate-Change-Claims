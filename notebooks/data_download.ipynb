{
 "cells": [
  {
   "cell_type": "markdown",
   "id": "a53b1bcd-626a-47d0-abcc-f677f974beb7",
   "metadata": {},
   "source": [
    "## Data\n",
    "\n",
    "You are provided with several files for the project:\n",
    "\n",
    "- `train-claims.json`, `dev-claims.json`: JSON files for the labelled training and development set;\n",
    "- `test-claims-unlabelled`.json: JSON file for the unlabelled test set;\n",
    "- `evidence.json`: JSON file containing a large number of evidence passages (i.e. the “knowledge source”);\n",
    "- `dev-claims-baseline.json`: JSON file containing predictions of a baseline system on the development set;\n",
    "\n",
    "The evidence.json file is too big (174.2MB) to upload via github. Please download it from the following google drive [link](https://drive.google.com/file/d/1JlUzRufknsHzKzvrEjgw8D3n_IRpjzo6/view?usp=sharing).\n",
    "\n",
    "You can use the following downloading script:\n",
    "\n",
    "```python\n",
    "from scripts.data_downloader import ClimateFactCheckerDataDownloader\n",
    "ClimateFactCheckerDataDownloader().download_all()\n",
    "```\n",
    "\n",
    "Or run the cell below:"
   ]
  },
  {
   "cell_type": "code",
   "execution_count": 3,
   "id": "6b785094-9fbb-4207-9e09-7e74cc531929",
   "metadata": {},
   "outputs": [
    {
     "name": "stderr",
     "output_type": "stream",
     "text": [
      "2024-05-11 15:07:29,352 - INFO - Downloading https://raw.githubusercontent.com/drcarenhan/COMP90042_2024/main/data/train-claims.json to ../data/train-claims.json.\n",
      "2024-05-11 15:07:29,870 - INFO - Downloaded ../data/train-claims.json.\n",
      "2024-05-11 15:07:29,873 - INFO - Downloading https://raw.githubusercontent.com/drcarenhan/COMP90042_2024/main/data/dev-claims.json to ../data/dev-claims.json.\n",
      "2024-05-11 15:07:30,320 - INFO - Downloaded ../data/dev-claims.json.\n",
      "2024-05-11 15:07:30,325 - INFO - Downloading https://raw.githubusercontent.com/drcarenhan/COMP90042_2024/main/data/test-claims-unlabelled.json to ../data/test-claims-unlabelled.json.\n",
      "2024-05-11 15:07:30,775 - INFO - Downloaded ../data/test-claims-unlabelled.json.\n",
      "2024-05-11 15:07:30,779 - INFO - Downloading https://raw.githubusercontent.com/drcarenhan/COMP90042_2024/main/data/dev-claims-baseline.json to ../data/dev-claims-baseline.json.\n",
      "2024-05-11 15:07:31,284 - INFO - Downloaded ../data/dev-claims-baseline.json.\n",
      "2024-05-11 15:07:31,288 - INFO - Downloading evidence file from Google Drive to ../data/evidence.json.\n",
      "Downloading...\n",
      "From (original): https://drive.google.com/uc?id=1JlUzRufknsHzKzvrEjgw8D3n_IRpjzo6\n",
      "From (redirected): https://drive.google.com/uc?id=1JlUzRufknsHzKzvrEjgw8D3n_IRpjzo6&confirm=t&uuid=32e566c7-bb8c-4aa2-ab58-2e6694a75804\n",
      "To: /Users/huangsunchuangyu/Documents/GitHub/COMP90042-Natural-Language-Processing-Group-Project/data/evidence.json\n",
      "100%|█████████████████████████████████████████████████████████████████████████████| 174M/174M [00:14<00:00, 12.4MB/s]\n",
      "2024-05-11 15:07:46,923 - INFO - Downloaded evidence file to ../data/evidence.json.\n"
     ]
    }
   ],
   "source": [
    "from pathlib import Path\n",
    "from data_downloader import ClimateFactCheckerDataDownloader as downloader\n",
    "downloader().download_all(destination_folder=Path('../data'))"
   ]
  },
  {
   "cell_type": "markdown",
   "id": "3a4a0b31-9fce-4857-8f12-fddb00889366",
   "metadata": {},
   "source": [
    "### Insepct Data\n",
    "\n",
    "Data should have the following MD5 hash value:\n",
    "\n",
    "- `5ca47229487d6cf7faa964f94e77777c  ../data/dev-claims-baseline.json`\n",
    "- `e0a5776710e536ebf99aa74271b96523  ../data/dev-claims.json`\n",
    "- `091fd62cccba1105fd8de5c38b541f91  ../data/evidence.json`\n",
    "- `54129f0ab0786f8615173f525265d558  ../data/test-claims-unlabelled.json`\n",
    "- `671a07d1545a2dc467e870bc1e76961c  ../data/train-claims.json`"
   ]
  },
  {
   "cell_type": "code",
   "execution_count": 5,
   "id": "e4304a0a-a40c-4915-9567-7e3ac400ff9d",
   "metadata": {},
   "outputs": [
    {
     "name": "stdout",
     "output_type": "stream",
     "text": [
      "5ca47229487d6cf7faa964f94e77777c  ../data/dev-claims-baseline.json\n",
      "0076e390272dacfb27341f9190985c5c  ../data/dev-claims.json\n",
      "091fd62cccba1105fd8de5c38b541f91  ../data/evidence.json\n",
      "190061fe2e70443012ec04fd224a44e4  ../data/README.md\n",
      "8b5309187ac284963a5c6ec0ff467a3b  ../data/test-claims-unlabelled.json\n",
      "671a07d1545a2dc467e870bc1e76961c  ../data/train-claims.json\n"
     ]
    }
   ],
   "source": [
    "!md5sum ../data/*"
   ]
  },
  {
   "cell_type": "code",
   "execution_count": null,
   "id": "cac14316-984d-416f-8b2b-fcf551418edd",
   "metadata": {},
   "outputs": [],
   "source": []
  }
 ],
 "metadata": {
  "kernelspec": {
   "display_name": "python 3.8.19",
   "language": "python",
   "name": "python3.8.19"
  },
  "language_info": {
   "codemirror_mode": {
    "name": "ipython",
    "version": 3
   },
   "file_extension": ".py",
   "mimetype": "text/x-python",
   "name": "python",
   "nbconvert_exporter": "python",
   "pygments_lexer": "ipython3",
   "version": "3.8.19"
  }
 },
 "nbformat": 4,
 "nbformat_minor": 5
}

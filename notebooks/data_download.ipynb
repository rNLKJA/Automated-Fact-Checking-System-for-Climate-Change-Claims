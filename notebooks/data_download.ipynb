{
 "cells": [
  {
   "cell_type": "markdown",
   "id": "a53b1bcd-626a-47d0-abcc-f677f974beb7",
   "metadata": {},
   "source": [
    "## Data\n",
    "\n",
    "You are provided with several files for the project:\n",
    "\n",
    "- `train-claims.json`, `dev-claims.json`: JSON files for the labelled training and development set;\n",
    "- `test-claims-unlabelled`.json: JSON file for the unlabelled test set;\n",
    "- `evidence.json`: JSON file containing a large number of evidence passages (i.e. the “knowledge source”);\n",
    "- `dev-claims-baseline.json`: JSON file containing predictions of a baseline system on the development set;\n",
    "\n",
    "The evidence.json file is too big (174.2MB) to upload via github. Please download it from the following google drive [link](https://drive.google.com/file/d/1JlUzRufknsHzKzvrEjgw8D3n_IRpjzo6/view?usp=sharing).\n",
    "\n",
    "You can use the following downloading script:\n",
    "\n",
    "```python\n",
    "from scripts.data_downloader import ClimateFactCheckerDataDownloader\n",
    "ClimateFactCheckerDataDownloader().download_all()\n",
    "```\n",
    "\n",
    "Or run the cell below:"
   ]
  },
  {
   "cell_type": "code",
   "execution_count": 11,
   "id": "6b785094-9fbb-4207-9e09-7e74cc531929",
   "metadata": {},
   "outputs": [
    {
     "name": "stderr",
     "output_type": "stream",
     "text": [
      "2024-05-11 14:43:04,235 - INFO - Downloading https://raw.githubusercontent.com/drcarenhan/COMP90042_2024/main/data/train-claims.json to ../data/train-claims.json.\n",
      "2024-05-11 14:43:04,382 - INFO - Downloaded ../data/train-claims.json.\n",
      "2024-05-11 14:43:04,383 - INFO - File ../data/dev-claims.json already exists. Skipping download.\n",
      "2024-05-11 14:43:04,383 - INFO - File ../data/test-claims-unlabelled.json already exists. Skipping download.\n",
      "2024-05-11 14:43:04,383 - INFO - File ../data/dev-claims-baseline.json already exists. Skipping download.\n",
      "2024-05-11 14:43:04,384 - INFO - Downloading evidence file from Google Drive to ../data/evidence.json.\n",
      "Downloading...\n",
      "From (original): https://drive.google.com/uc?id=1JlUzRufknsHzKzvrEjgw8D3n_IRpjzo6\n",
      "From (redirected): https://drive.google.com/uc?id=1JlUzRufknsHzKzvrEjgw8D3n_IRpjzo6&confirm=t&uuid=b4d38d5f-2771-4d33-9c42-ee4e8bb24b1c\n",
      "To: /Users/huangsunchuangyu/Documents/GitHub/COMP90042-Natural-Language-Processing-Group-Project/data/evidence.json\n",
      "100%|█████████████████████████████████████████████████████████████████████████████| 174M/174M [00:14<00:00, 12.1MB/s]\n",
      "2024-05-11 14:43:20,298 - INFO - Downloaded evidence file to ../data/evidence.json.\n"
     ]
    }
   ],
   "source": [
    "from pathlib import Path\n",
    "from data_downloader import ClimateFactCheckerDataDownloader as downloader\n",
    "downloader().download_all(destination_folder=Path('../data'))"
   ]
  },
  {
   "cell_type": "markdown",
   "id": "3a4a0b31-9fce-4857-8f12-fddb00889366",
   "metadata": {},
   "source": [
    "### Insepct Data\n",
    "\n",
    "Data should have the following MD5 hash value:\n",
    "\n",
    "- `5ca47229487d6cf7faa964f94e77777c  ../data/dev-claims-baseline.json`\n",
    "- `e0a5776710e536ebf99aa74271b96523  ../data/dev-claims.json`\n",
    "- `091fd62cccba1105fd8de5c38b541f91  ../data/evidence.json`\n",
    "- `54129f0ab0786f8615173f525265d558  ../data/test-claims-unlabelled.json`\n",
    "- `671a07d1545a2dc467e870bc1e76961c  ../data/train-claims.json`"
   ]
  },
  {
   "cell_type": "code",
   "execution_count": 12,
   "id": "e4304a0a-a40c-4915-9567-7e3ac400ff9d",
   "metadata": {},
   "outputs": [
    {
     "name": "stdout",
     "output_type": "stream",
     "text": [
      "5ca47229487d6cf7faa964f94e77777c  ../data/dev-claims-baseline.json\n",
      "e0a5776710e536ebf99aa74271b96523  ../data/dev-claims.json\n",
      "091fd62cccba1105fd8de5c38b541f91  ../data/evidence.json\n",
      "190061fe2e70443012ec04fd224a44e4  ../data/README.md\n",
      "54129f0ab0786f8615173f525265d558  ../data/test-claims-unlabelled.json\n",
      "671a07d1545a2dc467e870bc1e76961c  ../data/train-claims.json\n"
     ]
    }
   ],
   "source": [
    "!md5sum ../data/*"
   ]
  },
  {
   "cell_type": "code",
   "execution_count": 6,
   "id": "27328ea9-08be-4f4b-9746-e5e120348786",
   "metadata": {},
   "outputs": [],
   "source": [
    "import pandas as pd"
   ]
  },
  {
   "cell_type": "code",
   "execution_count": null,
   "id": "48b224d0-55e2-4af2-803e-ecf09f3b9010",
   "metadata": {},
   "outputs": [],
   "source": []
  }
 ],
 "metadata": {
  "kernelspec": {
   "display_name": "python 3.8.19",
   "language": "python",
   "name": "python3.8.19"
  },
  "language_info": {
   "codemirror_mode": {
    "name": "ipython",
    "version": 3
   },
   "file_extension": ".py",
   "mimetype": "text/x-python",
   "name": "python",
   "nbconvert_exporter": "python",
   "pygments_lexer": "ipython3",
   "version": "3.8.19"
  }
 },
 "nbformat": 4,
 "nbformat_minor": 5
}
